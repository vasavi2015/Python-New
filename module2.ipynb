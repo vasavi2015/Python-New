{
  "nbformat": 4,
  "nbformat_minor": 0,
  "metadata": {
    "colab": {
      "name": "module2.ipynb",
      "provenance": [],
      "authorship_tag": "ABX9TyOI/TDUEGVHZ79k6vXq10Sr",
      "include_colab_link": true
    },
    "kernelspec": {
      "name": "python3",
      "display_name": "Python 3"
    },
    "language_info": {
      "name": "python"
    }
  },
  "cells": [
    {
      "cell_type": "markdown",
      "metadata": {
        "id": "view-in-github",
        "colab_type": "text"
      },
      "source": [
        "<a href=\"https://colab.research.google.com/github/vasavi2015/Python-New/blob/Module-2/module2.ipynb\" target=\"_parent\"><img src=\"https://colab.research.google.com/assets/colab-badge.svg\" alt=\"Open In Colab\"/></a>"
      ]
    },
    {
      "cell_type": "markdown",
      "source": [
        "**MODULE 2**"
      ],
      "metadata": {
        "id": "7Vg8OEfxG_BE"
      }
    },
    {
      "cell_type": "markdown",
      "source": [
        "**Create a function which accepts two inputs from the user and compute n\n",
        "Cr**"
      ],
      "metadata": {
        "id": "sCCuQj3erzsI"
      }
    },
    {
      "cell_type": "code",
      "execution_count": null,
      "metadata": {
        "colab": {
          "base_uri": "https://localhost:8080/"
        },
        "id": "aklqdPrjo0AW",
        "outputId": "edf7e4d8-cf4c-49dc-b380-4d4ed6a72106"
      },
      "outputs": [
        {
          "output_type": "stream",
          "name": "stdout",
          "text": [
            "Enter the value of n= 6\n",
            "Enter the value of r= 4\n",
            "15\n"
          ]
        }
      ],
      "source": [
        "\n",
        "def nCr(n, r):\n",
        "\treturn (fact(n) / (fact(r)* fact(n - r)))\n",
        "def fact(n):\n",
        "\tres = 1\n",
        "\tfor i in range(2, n+1):\n",
        "\t\tres = res * i\n",
        "\treturn res\n",
        "n=(int(input(\"Enter the value of n= \")))\n",
        "r=(int(input(\"Enter the value of r= \")))\n",
        "print(int(nCr(n, r)))\n",
        "\n"
      ]
    },
    {
      "cell_type": "markdown",
      "source": [
        " **Program to print a specified list after removing the 0th, 4th and 5th elements. \n",
        "Sample List : ['Red', 'Green', 'White', 'Black', 'Pink', 'Yellow'] \n",
        "Expected Output : ['Green', 'White', 'Black']**"
      ],
      "metadata": {
        "id": "Ymw8zPgir9xY"
      }
    },
    {
      "cell_type": "code",
      "source": [
        "list=['Red', 'Green', 'White', 'Black', 'Pink', 'Yellow']\n",
        "unwanted_list = [\"Red\",\"Pink\",\"Yellow\"]\n",
        "list= [ele for ele in list if ele not in unwanted_list]\n",
        "print(list)\n"
      ],
      "metadata": {
        "id": "Brrqxc48ppbz",
        "colab": {
          "base_uri": "https://localhost:8080/"
        },
        "outputId": "c4a4a762-be22-4202-ed8b-1c3b453e8521"
      },
      "execution_count": null,
      "outputs": [
        {
          "output_type": "stream",
          "name": "stdout",
          "text": [
            "['Green', 'White', 'Black']\n"
          ]
        }
      ]
    },
    {
      "cell_type": "markdown",
      "source": [
        "**Program to get the difference between the two lists**"
      ],
      "metadata": {
        "id": "6JrBH76h9aUM"
      }
    },
    {
      "cell_type": "code",
      "execution_count": null,
      "metadata": {
        "colab": {
          "base_uri": "https://localhost:8080/"
        },
        "id": "0tu_Y75f86KX",
        "outputId": "74f17348-e2ad-4366-f371-f3e7f92744aa"
      },
      "outputs": [
        {
          "output_type": "stream",
          "name": "stdout",
          "text": [
            "{'Red', 'Yellow'}\n"
          ]
        }
      ],
      "source": [
        "a= [\"Red\",\"Pink\",\"Yellow\"]\n",
        "x=set(a)\n",
        "b=['Green', 'Pink', 'Black']\n",
        "y=set(b)\n",
        "z=x.difference(y)\n",
        "diff=list(z)\n",
        "print(z)"
      ]
    },
    {
      "cell_type": "markdown",
      "source": [
        "**Program to find the second smallest number and second largest number in a list.**"
      ],
      "metadata": {
        "id": "x-VrQPvT9aaw"
      }
    },
    {
      "cell_type": "code",
      "source": [
        "list=[1,2,4,3]\n",
        "length=len(list)\n",
        "list.sort()\n",
        "print(\"Second Largest Number:\",list[length-2])\n",
        "print(\"Second Smallest Number:\",list[1])"
      ],
      "metadata": {
        "colab": {
          "base_uri": "https://localhost:8080/"
        },
        "id": "LHmggNzg9RDG",
        "outputId": "e9883924-bc0f-47f0-bdcc-b3539d3224a5"
      },
      "execution_count": null,
      "outputs": [
        {
          "output_type": "stream",
          "name": "stdout",
          "text": [
            "Second Largest Number: 3\n",
            "Second Smallest Number: 2\n"
          ]
        }
      ]
    },
    {
      "cell_type": "markdown",
      "source": [
        "**Given list of tuples, remove all the tuples with length K. \n",
        "Input : test_list = [(4, 5), (4, ), (8, 6, 7), (1, ), (3, 4, 6, 7)], K = 2 \n",
        "Output : [(4, ), (8, 6, 7), (1, ), (3, 4, 6, 7)] \n",
        "Explanation : (4, 5) of len = 2 is removed.**"
      ],
      "metadata": {
        "id": "8Fa-o60W-C-s"
      }
    },
    {
      "cell_type": "code",
      "source": [
        "list = [(4, 5), (4, ), (8, 6, 7), (1, ), (3, 4, 6, 7)]\n",
        "  \n",
        "print(\"list: \" + str(list))\n",
        "K = 2\n",
        "res = [ele for ele in list if len(ele) != K]\n",
        "print(\"New list : \" + str(res))"
      ],
      "metadata": {
        "id": "G-JJds6f-aIL",
        "colab": {
          "base_uri": "https://localhost:8080/"
        },
        "outputId": "11273e32-605d-4d0d-e08c-607e93814a1a"
      },
      "execution_count": null,
      "outputs": [
        {
          "output_type": "stream",
          "name": "stdout",
          "text": [
            "list: [(4, 5), (4,), (8, 6, 7), (1,), (3, 4, 6, 7)]\n",
            "New list : [(4,), (8, 6, 7), (1,), (3, 4, 6, 7)]\n"
          ]
        }
      ]
    },
    {
      "cell_type": "markdown",
      "source": [
        "**Program to generate and print a dictionary that contains a number (between 1 \n",
        "and n) in the form (x, x*x). \n",
        "Sample Input: (n=5) : \n",
        "Expected Output : {1: 1, 2: 4, 3: 9, 4: 16, 5: 25}**"
      ],
      "metadata": {
        "id": "7V2Eij02AX87"
      }
    },
    {
      "cell_type": "code",
      "source": [
        "n=int(input(\"Enter number \"))\n",
        "d = dict()\n",
        "for x in range(1,n+1):\n",
        "    d[x]=x*x\n",
        "\n",
        "print(d) "
      ],
      "metadata": {
        "id": "PukH67vM_-qR",
        "outputId": "5f250fe4-e37b-43e7-9e7c-758930b7936c",
        "colab": {
          "base_uri": "https://localhost:8080/"
        }
      },
      "execution_count": null,
      "outputs": [
        {
          "output_type": "stream",
          "name": "stdout",
          "text": [
            "Enter number 5\n",
            "{1: 1, 2: 4, 3: 9, 4: 16, 5: 25}\n"
          ]
        }
      ]
    },
    {
      "cell_type": "markdown",
      "source": [
        "**Remove a key from a dictionary.**"
      ],
      "metadata": {
        "id": "TnljnzE1A7Aa"
      }
    },
    {
      "cell_type": "code",
      "source": [
        "dictionary = {'Vasavi':1,'Varun':2,'Lathi':3}\n",
        "print(dictionary)\n",
        "if 'Vasavi' in dictionary: \n",
        "    del dictionary['Vasavi']\n",
        "print(dictionary)"
      ],
      "metadata": {
        "id": "OxKCXjqxA2KD",
        "outputId": "42e4872c-784d-4b79-ed42-2860b6924b18",
        "colab": {
          "base_uri": "https://localhost:8080/"
        }
      },
      "execution_count": null,
      "outputs": [
        {
          "output_type": "stream",
          "name": "stdout",
          "text": [
            "{'Vasavi': 1, 'Varun': 2, 'Lathi': 3}\n",
            "{'Varun': 2, 'Lathi': 3}\n"
          ]
        }
      ]
    },
    {
      "cell_type": "markdown",
      "source": [
        "**Program to get the maximum and minimum value in a dictionary.**"
      ],
      "metadata": {
        "id": "wJvgwfkfBoNv"
      }
    },
    {
      "cell_type": "code",
      "source": [
        "dictionary={'a':34,'b':26,'c':22}\n",
        "maximum=max(dictionary, key=dictionary.get)\n",
        "minimum=min(dictionary, key=dictionary.get)\n",
        "print(dictionary.get(maximum))\n",
        "print(dictionary.get(minimum))"
      ],
      "metadata": {
        "id": "I2Mks664Bi5m",
        "outputId": "e482cf79-666c-49b3-fb84-53c4d57c6160",
        "colab": {
          "base_uri": "https://localhost:8080/"
        }
      },
      "execution_count": null,
      "outputs": [
        {
          "output_type": "stream",
          "name": "stdout",
          "text": [
            "34\n",
            "22\n"
          ]
        }
      ]
    },
    {
      "cell_type": "markdown",
      "source": [
        "**Program to count the number of strings where the string length is 2 or more and \n",
        "the first and last character are same from a given list of strings \n",
        "x Sample List : ['abc', 'xyz', 'aba', '1221'] Expected Result : 2**"
      ],
      "metadata": {
        "id": "cY-6Rnh_CyzG"
      }
    },
    {
      "cell_type": "code",
      "source": [
        "def words(words):\n",
        "  ctr = 0\n",
        "\n",
        "  for word in words:\n",
        "    if len(word) > 1 and word[0] == word[-1]:\n",
        "      ctr += 1\n",
        "  return ctr\n",
        "\n",
        "print(words(['abc', 'xyz', 'aba', '1221']))\n"
      ],
      "metadata": {
        "id": "2mnzotcMCwYz",
        "outputId": "fafd893a-ee7b-4e99-e420-d09cdad46538",
        "colab": {
          "base_uri": "https://localhost:8080/"
        }
      },
      "execution_count": null,
      "outputs": [
        {
          "output_type": "stream",
          "name": "stdout",
          "text": [
            "2\n"
          ]
        }
      ]
    },
    {
      "cell_type": "markdown",
      "source": [
        "**Python function that accepts a string and calculates the number of uppercase  letters and lowercase letters.**"
      ],
      "metadata": {
        "id": "hFEP6YnFDlyz"
      }
    },
    {
      "cell_type": "code",
      "source": [
        "def LIST(s):\n",
        "    x={\"UPPER CASE\":0, \"LOWER CASE\":0}\n",
        "    for c in s:\n",
        "        if c.isupper():\n",
        "           x[\"UPPER CASE\"]+=1\n",
        "        elif c.islower():\n",
        "           x[\"LOWER CASE\"]+=1\n",
        "        else:\n",
        "           pass\n",
        "    print (\"INPUT : \", s)\n",
        "    print (\"UPPER CASE : \", x[\"UPPER CASE\"])\n",
        "    print (\"LOWER CASE : \", x[\"LOWER CASE\"])\n",
        "LIST('My Name Is Vasavi')"
      ],
      "metadata": {
        "id": "dEEwS4cnDiwH",
        "outputId": "319a9cc4-6d1a-41b9-fca9-fb37bb2384f4",
        "colab": {
          "base_uri": "https://localhost:8080/"
        }
      },
      "execution_count": null,
      "outputs": [
        {
          "output_type": "stream",
          "name": "stdout",
          "text": [
            "INPUT :  My Name Is Vasavi\n",
            "UPPER CASE :  4\n",
            "LOWER CASE :  10\n"
          ]
        }
      ]
    },
    {
      "cell_type": "markdown",
      "source": [
        "**Program to Acronym generator for any user input (ex-input is Random memory access \n",
        "then output should be RMA).Example - Random number (RN)**"
      ],
      "metadata": {
        "id": "UcNBTo6JEfX0"
      }
    },
    {
      "cell_type": "code",
      "source": [
        "# Taking user input \n",
        "input = input(\"Enter a phrase: \")\n",
        "phrase = (input.replace('of', '')).split()\n",
        "a = \"\"\n",
        "for word in phrase:\n",
        "    a = a + word[0].upper()\n",
        "print(f'Acronym of {input} is {a}')"
      ],
      "metadata": {
        "id": "WujnJ0xRES7b",
        "outputId": "6667c86a-dc05-499c-a33a-95487d279f15",
        "colab": {
          "base_uri": "https://localhost:8080/"
        }
      },
      "execution_count": null,
      "outputs": [
        {
          "output_type": "stream",
          "name": "stdout",
          "text": [
            "Enter a phrase: My Name Is Vasavi\n",
            "Acronym of My Name Is Vasavi is MNIV\n"
          ]
        }
      ]
    },
    {
      "cell_type": "markdown",
      "source": [
        "**Program for replacing one substring by another For example - Rabbit - Replace bb by cc**"
      ],
      "metadata": {
        "id": "MiHy43DAFIrK"
      }
    },
    {
      "cell_type": "code",
      "source": [
        "def replace(input, pattern, replaceWith):\n",
        "    return input.replace(pattern, replaceWith)\n",
        "if  __name__ == \"__main__\":\n",
        "    input   = 'Rabbit'\n",
        "    pattern = 'bb'\n",
        "    replaceWith = 'cc'\n",
        "    print (replace(input,pattern,replaceWith))"
      ],
      "metadata": {
        "id": "dj3qSOOgFEBe",
        "outputId": "5e55bdd9-3a0b-44ef-9a7d-22bcc96fc9ed",
        "colab": {
          "base_uri": "https://localhost:8080/"
        }
      },
      "execution_count": null,
      "outputs": [
        {
          "output_type": "stream",
          "name": "stdout",
          "text": [
            "Raccit\n"
          ]
        }
      ]
    },
    {
      "cell_type": "markdown",
      "source": [
        "**Given a list of numbers of list, write a Python program to create a list of tuples \n",
        "having first element as the number and second element as the square of the \n",
        "number.**"
      ],
      "metadata": {
        "id": "ZvlNITx3GOsO"
      }
    },
    {
      "cell_type": "code",
      "source": [
        "list = [5, 6, 7, 8, 9, 10]\n",
        "print(\"list:\")\n",
        "print(list)\n",
        "print(\"Tuple:\")\n",
        "result = [(val, pow(val, 2)) for val in list]\n",
        "print(result)"
      ],
      "metadata": {
        "id": "Yn22zaUYF_6C",
        "outputId": "b4591fab-c23d-48bf-87e5-06059bd6ecc2",
        "colab": {
          "base_uri": "https://localhost:8080/"
        }
      },
      "execution_count": null,
      "outputs": [
        {
          "output_type": "stream",
          "name": "stdout",
          "text": [
            "list:\n",
            "[5, 6, 7, 8, 9, 10]\n",
            "Tuple:\n",
            "[(5, 25), (6, 36), (7, 49), (8, 64), (9, 81), (10, 100)]\n"
          ]
        }
      ]
    },
    {
      "cell_type": "markdown",
      "source": [
        "**Program for Counting occurrence of a certain element in a string, getting indexes that \n",
        "have matching elements.For ex -.In Rabbit count how many times b has occurred . \n",
        "Example-I have to go to a doctor and get myself checked. Count the number of \n",
        "occXrrences of**"
      ],
      "metadata": {
        "id": "D9L_DWVFHNTP"
      }
    },
    {
      "cell_type": "code",
      "source": [
        "def count(x, y) :\n",
        "    res = 0\n",
        "    for i in range(len(x)) :\n",
        "        if (x[i] == y):\n",
        "            res = res + 1\n",
        "    return res\n",
        "string= \"Rabbit\"\n",
        "y = 'b'\n",
        "print(count(string, y))"
      ],
      "metadata": {
        "id": "xXnjop1PG2S3",
        "outputId": "a65ca7c2-f98d-4d54-c286-caed59439d44",
        "colab": {
          "base_uri": "https://localhost:8080/"
        }
      },
      "execution_count": null,
      "outputs": [
        {
          "output_type": "stream",
          "name": "stdout",
          "text": [
            "2\n"
          ]
        }
      ]
    }
  ]
}
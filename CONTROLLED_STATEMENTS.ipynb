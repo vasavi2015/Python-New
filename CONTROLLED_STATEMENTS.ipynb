{
  "cells": [
    {
      "cell_type": "markdown",
      "metadata": {
        "id": "view-in-github",
        "colab_type": "text"
      },
      "source": [
        "<a href=\"https://colab.research.google.com/github/vasavi2015/Python-New/blob/Module-1/CONTROLLED_STATEMENTS.ipynb\" target=\"_parent\"><img src=\"https://colab.research.google.com/assets/colab-badge.svg\" alt=\"Open In Colab\"/></a>"
      ]
    },
    {
      "cell_type": "markdown",
      "id": "c69e0510",
      "metadata": {
        "id": "c69e0510"
      },
      "source": [
        "## CONTROL STATEMENTS"
      ]
    },
    {
      "cell_type": "markdown",
      "id": "054b9c28",
      "metadata": {
        "id": "054b9c28"
      },
      "source": [
        "## Voting"
      ]
    },
    {
      "cell_type": "code",
      "execution_count": null,
      "id": "65a7a637",
      "metadata": {
        "id": "65a7a637",
        "outputId": "90e00d16-bd87-4911-f437-cd1586992268"
      },
      "outputs": [
        {
          "name": "stdout",
          "output_type": "stream",
          "text": [
            "you are eligible for voting\n"
          ]
        }
      ],
      "source": [
        "a=18\n",
        "if a>=18:\n",
        "        print(\"you are eligible for voting\")\n",
        "else:\n",
        "       print(\"your not elgibile\")"
      ]
    },
    {
      "cell_type": "markdown",
      "id": "fb60b152",
      "metadata": {
        "id": "fb60b152"
      },
      "source": [
        "## Dynamic"
      ]
    },
    {
      "cell_type": "code",
      "execution_count": null,
      "id": "3ebcad96",
      "metadata": {
        "id": "3ebcad96",
        "outputId": "cf699bb0-7cdd-4b14-abb4-8f6b9fd111be"
      },
      "outputs": [
        {
          "name": "stdout",
          "output_type": "stream",
          "text": [
            "Enter the age: 2\n",
            "your not elgibile\n"
          ]
        }
      ],
      "source": [
        "a=int(input(\"Enter the age: \"))\n",
        "if a>=18:\n",
        "    print(\"you are eligible for voting\")\n",
        "else:\n",
        "    print(\"your not elgibile\")"
      ]
    },
    {
      "cell_type": "markdown",
      "id": "9c2b2e3a",
      "metadata": {
        "id": "9c2b2e3a"
      },
      "source": [
        "## Find out the greatest of three numbers"
      ]
    },
    {
      "cell_type": "code",
      "execution_count": null,
      "id": "9432e007",
      "metadata": {
        "id": "9432e007",
        "outputId": "8c147802-f9e4-44af-d78a-43a44436c411"
      },
      "outputs": [
        {
          "name": "stdout",
          "output_type": "stream",
          "text": [
            "Enter the number: 2\n",
            "Enter the number: 3\n",
            "Enter the number: 4\n",
            "c is greatest\n"
          ]
        }
      ],
      "source": [
        "a=int(input(\"Enter the number: \"))\n",
        "b=int(input(\"Enter the number: \"))\n",
        "c=int(input(\"Enter the number: \"))\n",
        "if a>b and a>c:\n",
        "                print(\"a is greatest\")\n",
        "elif b>c and b>a:\n",
        "                  print(\"b is greatest\")\n",
        "else: \n",
        "     print(\"c is greatest\")"
      ]
    },
    {
      "cell_type": "markdown",
      "id": "3ae6b5ba",
      "metadata": {
        "id": "3ae6b5ba"
      },
      "source": [
        "## Find the greatest of five numbers (dynamic)"
      ]
    },
    {
      "cell_type": "code",
      "execution_count": null,
      "id": "ab0cc6c2",
      "metadata": {
        "id": "ab0cc6c2",
        "outputId": "e7336eb2-bd16-4ca7-afa8-1c44328e6585"
      },
      "outputs": [
        {
          "name": "stdout",
          "output_type": "stream",
          "text": [
            "Enter the number: 1\n",
            "Enter the number: 2\n",
            "Enter the number: 3\n",
            "Enter the number: 4\n",
            "Enter the number: 5\n",
            "e is greatest\n"
          ]
        }
      ],
      "source": [
        "a=int(input(\"Enter the number: \"))\n",
        "b=int(input(\"Enter the number: \"))\n",
        "c=int(input(\"Enter the number: \"))\n",
        "d=int(input(\"Enter the number: \"))\n",
        "e=int(input(\"Enter the number: \"))\n",
        "if a>b and a>c and a>d and a>e:\n",
        "                print(\"a is greatest\")\n",
        "elif b>c and b>a and b>d and b>e:\n",
        "                  print(\"b is greatest\")\n",
        "elif c>a and c>b and c>d and c>e:\n",
        "         print(\"c is greatest\")\n",
        "elif d>a and d>b and d>c and d>e:  \n",
        "        print(\"d is greatest\")\n",
        "else:\n",
        "        print(\"e is greatest\")"
      ]
    },
    {
      "cell_type": "markdown",
      "id": "c3ff1581",
      "metadata": {
        "id": "c3ff1581"
      },
      "source": [
        "## (For loop) print even numbers from 1 to 100"
      ]
    },
    {
      "cell_type": "code",
      "execution_count": null,
      "id": "9e70b411",
      "metadata": {
        "id": "9e70b411",
        "outputId": "9f528c2a-95cf-45b4-a427-02f1fe962f78"
      },
      "outputs": [
        {
          "name": "stdout",
          "output_type": "stream",
          "text": [
            "2\n",
            "4\n",
            "6\n",
            "8\n",
            "10\n",
            "12\n",
            "14\n",
            "16\n",
            "18\n",
            "20\n",
            "22\n",
            "24\n",
            "26\n",
            "28\n",
            "30\n",
            "32\n",
            "34\n",
            "36\n",
            "38\n",
            "40\n",
            "42\n",
            "44\n",
            "46\n",
            "48\n",
            "50\n",
            "52\n",
            "54\n",
            "56\n",
            "58\n",
            "60\n",
            "62\n",
            "64\n",
            "66\n",
            "68\n",
            "70\n",
            "72\n",
            "74\n",
            "76\n",
            "78\n",
            "80\n",
            "82\n",
            "84\n",
            "86\n",
            "88\n",
            "90\n",
            "92\n",
            "94\n",
            "96\n",
            "98\n"
          ]
        }
      ],
      "source": [
        "for i in range (1,100):\n",
        "    if (i%2==0):\n",
        "         print(i)"
      ]
    }
  ],
  "metadata": {
    "kernelspec": {
      "display_name": "Python 3 (ipykernel)",
      "language": "python",
      "name": "python3"
    },
    "language_info": {
      "codemirror_mode": {
        "name": "ipython",
        "version": 3
      },
      "file_extension": ".py",
      "mimetype": "text/x-python",
      "name": "python",
      "nbconvert_exporter": "python",
      "pygments_lexer": "ipython3",
      "version": "3.9.7"
    },
    "colab": {
      "name": "CONTROLLED STATEMENTS.ipynb",
      "provenance": [],
      "include_colab_link": true
    }
  },
  "nbformat": 4,
  "nbformat_minor": 5
}
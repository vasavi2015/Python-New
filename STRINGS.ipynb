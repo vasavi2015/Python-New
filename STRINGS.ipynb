{
  "nbformat": 4,
  "nbformat_minor": 0,
  "metadata": {
    "colab": {
      "name": "STRINGS.ipynb",
      "provenance": [],
      "authorship_tag": "ABX9TyOWgWdNUtj3t5zWD5VzjZPt",
      "include_colab_link": true
    },
    "kernelspec": {
      "name": "python3",
      "display_name": "Python 3"
    },
    "language_info": {
      "name": "python"
    }
  },
  "cells": [
    {
      "cell_type": "markdown",
      "metadata": {
        "id": "view-in-github",
        "colab_type": "text"
      },
      "source": [
        "<a href=\"https://colab.research.google.com/github/vasavi2015/Python-New/blob/Module-2/STRINGS.ipynb\" target=\"_parent\"><img src=\"https://colab.research.google.com/assets/colab-badge.svg\" alt=\"Open In Colab\"/></a>"
      ]
    },
    {
      "cell_type": "markdown",
      "source": [
        "**STRINGS**"
      ],
      "metadata": {
        "id": "9vfl0VLycZp2"
      }
    },
    {
      "cell_type": "markdown",
      "source": [
        "**Upper case and Lower case**"
      ],
      "metadata": {
        "id": "sk_Jp3DEaWsR"
      }
    },
    {
      "cell_type": "code",
      "execution_count": null,
      "metadata": {
        "id": "M52KDETOWoBM",
        "colab": {
          "base_uri": "https://localhost:8080/"
        },
        "outputId": "70d86481-bdda-485a-fd65-d8f408962c86"
      },
      "outputs": [
        {
          "output_type": "stream",
          "name": "stdout",
          "text": [
            "I WENT TO RRR MOVIE\n"
          ]
        }
      ],
      "source": [
        "a=\"I went to RRR movie\"\n",
        "print(a.upper())"
      ]
    },
    {
      "cell_type": "code",
      "source": [
        "a=\"I went to RRR movie\"\n",
        "print(a.lower())"
      ],
      "metadata": {
        "colab": {
          "base_uri": "https://localhost:8080/"
        },
        "id": "kvxsqXywX-Ai",
        "outputId": "9f2ea9a2-fdd0-4cae-f707-df2582ed97f7"
      },
      "execution_count": null,
      "outputs": [
        {
          "output_type": "stream",
          "name": "stdout",
          "text": [
            "i went to rrr movie\n"
          ]
        }
      ]
    },
    {
      "cell_type": "markdown",
      "source": [
        "**Remove whitespace**"
      ],
      "metadata": {
        "id": "mj61KkYAYcG8"
      }
    },
    {
      "cell_type": "code",
      "source": [
        "a=\" This is Vasavi \"\n",
        "print(a.strip())"
      ],
      "metadata": {
        "colab": {
          "base_uri": "https://localhost:8080/"
        },
        "id": "r8nSqpLdYsxX",
        "outputId": "fd99269b-5181-48da-ad7d-f8d822828c56"
      },
      "execution_count": null,
      "outputs": [
        {
          "output_type": "stream",
          "name": "stdout",
          "text": [
            "This is Vasavi\n"
          ]
        }
      ]
    },
    {
      "cell_type": "markdown",
      "source": [
        "**Replace string**"
      ],
      "metadata": {
        "id": "j3iCY6F6ZCEZ"
      }
    },
    {
      "cell_type": "code",
      "source": [
        "a=\"I went to RRR movie\"\n",
        "print(a.replace(\"RRR\",\"SSS\"))"
      ],
      "metadata": {
        "colab": {
          "base_uri": "https://localhost:8080/"
        },
        "id": "6Lh4H7x0Y7Xg",
        "outputId": "6eaeba6a-c164-4d30-9c81-80a0421d6b55"
      },
      "execution_count": null,
      "outputs": [
        {
          "output_type": "stream",
          "name": "stdout",
          "text": [
            "I went to SSS movie\n"
          ]
        }
      ]
    },
    {
      "cell_type": "markdown",
      "source": [
        "**split string**"
      ],
      "metadata": {
        "id": "YWM0zpoNZong"
      }
    },
    {
      "cell_type": "code",
      "source": [
        "a=\"Vasavi,Varun\"\n",
        "print(a.split(\",\"))\n",
        "B=\"Vasavi,Varun\"\n",
        "print(a.split())"
      ],
      "metadata": {
        "colab": {
          "base_uri": "https://localhost:8080/"
        },
        "id": "yNOyU-tBZgxw",
        "outputId": "1bd10f1a-1b9d-4b8b-a551-4eaa09c91b80"
      },
      "execution_count": null,
      "outputs": [
        {
          "output_type": "stream",
          "name": "stdout",
          "text": [
            "['Vasavi', 'Varun']\n",
            "['Vasavi,Varun']\n"
          ]
        }
      ]
    },
    {
      "cell_type": "markdown",
      "source": [
        "**String Concatenation**"
      ],
      "metadata": {
        "id": "8RvWz5asc9J-"
      }
    },
    {
      "cell_type": "code",
      "source": [
        "a=\"Vasavi\"\n",
        "b=\"Reddy\"\n",
        "c=a+b \n",
        "print(c)"
      ],
      "metadata": {
        "colab": {
          "base_uri": "https://localhost:8080/"
        },
        "id": "vIUWSutvcLOl",
        "outputId": "c8fdeebb-169f-47a3-c8d9-7fb786a95b55"
      },
      "execution_count": null,
      "outputs": [
        {
          "output_type": "stream",
          "name": "stdout",
          "text": [
            "VasaviReddy\n"
          ]
        }
      ]
    },
    {
      "cell_type": "code",
      "source": [
        "a=\"Vasavi\"\n",
        "b=\"Reddy\"\n",
        "c= a + \" \" + b  \n",
        "print(c)"
      ],
      "metadata": {
        "colab": {
          "base_uri": "https://localhost:8080/"
        },
        "id": "A60muVzoeiSN",
        "outputId": "13b734ee-6c8d-41ee-b017-3ee72f14d0a8"
      },
      "execution_count": null,
      "outputs": [
        {
          "output_type": "stream",
          "name": "stdout",
          "text": [
            "Vasavi Reddy\n"
          ]
        }
      ]
    },
    {
      "cell_type": "markdown",
      "source": [
        "**STRING FORMAT**"
      ],
      "metadata": {
        "id": "Gr01JrNxhsN8"
      }
    },
    {
      "cell_type": "code",
      "source": [
        "a=\"2\"\n",
        "b=\"I have {} guitars\"\n",
        "print(b.format(a))"
      ],
      "metadata": {
        "colab": {
          "base_uri": "https://localhost:8080/"
        },
        "id": "uh1Mnuzpeqrc",
        "outputId": "04935aca-61f6-4747-8c19-70629377cb6e"
      },
      "execution_count": null,
      "outputs": [
        {
          "output_type": "stream",
          "name": "stdout",
          "text": [
            "I have 2 guitars\n"
          ]
        }
      ]
    },
    {
      "cell_type": "code",
      "source": [
        "a=\"2\"\n",
        "b=\" i am \" + a\n",
        "print(b)"
      ],
      "metadata": {
        "colab": {
          "base_uri": "https://localhost:8080/"
        },
        "id": "5bGoNjTwiBSb",
        "outputId": "0fea0e2f-ae30-458e-ec57-2e8b5c8286a8"
      },
      "execution_count": null,
      "outputs": [
        {
          "output_type": "stream",
          "name": "stdout",
          "text": [
            " i am 2\n"
          ]
        }
      ]
    },
    {
      "cell_type": "code",
      "source": [
        "price=150\n",
        "quantity=5\n",
        "item=1\n",
        "Name=\"cocacola\"\n",
        "myorder=  \"I want {} pieces of item {} for {} .\"\n",
        "print(myorder.format(quantity,item,price))\n"
      ],
      "metadata": {
        "colab": {
          "base_uri": "https://localhost:8080/"
        },
        "id": "iV2jnLopiIl6",
        "outputId": "0ec205f7-6d99-48ac-f122-6f3896c7a175"
      },
      "execution_count": null,
      "outputs": [
        {
          "output_type": "stream",
          "name": "stdout",
          "text": [
            "I want 5 pieces of item 1 for 150 .\n"
          ]
        }
      ]
    },
    {
      "cell_type": "code",
      "source": [
        "a=int(input(\"Enter marks of maths \"))\n",
        "b=int(input(\"Enter marks of science \"))\n",
        "c=int(input(\"Enter marks of social \"))\n",
        "d=int(input(\"Enter marks of english \"))\n",
        "e=int(input(\"Enter marks of hindi \"))\n",
        "marks=\"maths marks are {},science marks are {},social marks are {},english marks are {},hindi marks are 9{}\"\n",
        "print(marks.format(a,b,c,d,e))"
      ],
      "metadata": {
        "colab": {
          "base_uri": "https://localhost:8080/"
        },
        "id": "u70t31q0j0xa",
        "outputId": "ba4b3036-db28-45b5-a289-15af4ccf6aea"
      },
      "execution_count": null,
      "outputs": [
        {
          "output_type": "stream",
          "name": "stdout",
          "text": [
            "Enter marks of maths 99\n",
            "Enter marks of science 99\n",
            "Enter marks of social 99\n",
            "Enter marks of english 99\n",
            "Enter marks of hindi 99\n",
            "maths marks are 99,science marks are 99,social marks are 99,english marks are 99,hindi marks are 999\n"
          ]
        }
      ]
    },
    {
      "cell_type": "markdown",
      "source": [
        "**String escape characters**"
      ],
      "metadata": {
        "id": "W_sCw520oo-x"
      }
    },
    {
      "cell_type": "code",
      "source": [
        "a=\"Hello vasavi\\'s\"\n",
        "print(a)"
      ],
      "metadata": {
        "colab": {
          "base_uri": "https://localhost:8080/"
        },
        "id": "YBNMWfgMlrRQ",
        "outputId": "49fe00bd-11dd-4539-a355-32ef6a24d7f3"
      },
      "execution_count": null,
      "outputs": [
        {
          "output_type": "stream",
          "name": "stdout",
          "text": [
            "Hello vasavi's\n"
          ]
        }
      ]
    },
    {
      "cell_type": "code",
      "source": [
        "a=\"Hello vasavi\\\\\"\n",
        "print(a)"
      ],
      "metadata": {
        "colab": {
          "base_uri": "https://localhost:8080/"
        },
        "id": "PYEHTcURnSWZ",
        "outputId": "81c8708f-dd30-4d51-e2cb-533a92dae023"
      },
      "execution_count": null,
      "outputs": [
        {
          "output_type": "stream",
          "name": "stdout",
          "text": [
            "Hello vasavi\\\n"
          ]
        }
      ]
    },
    {
      "cell_type": "code",
      "source": [
        "a=\"Hello\\nvasavi\"\n",
        "print(a)"
      ],
      "metadata": {
        "colab": {
          "base_uri": "https://localhost:8080/"
        },
        "id": "-RgSAsU_n48G",
        "outputId": "195a6439-0f8d-42da-ca51-479c8528efb3"
      },
      "execution_count": null,
      "outputs": [
        {
          "output_type": "stream",
          "name": "stdout",
          "text": [
            "Hello\n",
            "vasavi\n"
          ]
        }
      ]
    },
    {
      "cell_type": "code",
      "source": [
        "a=\"Hello \\r vasavi\"\n",
        "print(a)"
      ],
      "metadata": {
        "colab": {
          "base_uri": "https://localhost:8080/"
        },
        "id": "0QNyfG-sn-oW",
        "outputId": "6e86cafd-ce2e-4fbe-f2cb-d6e28dd25a0e"
      },
      "execution_count": null,
      "outputs": [
        {
          "output_type": "stream",
          "name": "stdout",
          "text": [
            "Hello \r vasavi\n"
          ]
        }
      ]
    },
    {
      "cell_type": "code",
      "source": [
        "a=\"Hello\\tvasavi\"\n",
        "print(a)"
      ],
      "metadata": {
        "colab": {
          "base_uri": "https://localhost:8080/"
        },
        "id": "Zrt78nEQoKJo",
        "outputId": "8c8177dd-95da-415a-b8c5-17adbba9e299"
      },
      "execution_count": null,
      "outputs": [
        {
          "output_type": "stream",
          "name": "stdout",
          "text": [
            "Hello\tvasavi\n"
          ]
        }
      ]
    },
    {
      "cell_type": "code",
      "source": [
        "a=\"Hello\\bvasavi\"\n",
        "print(a)"
      ],
      "metadata": {
        "colab": {
          "base_uri": "https://localhost:8080/"
        },
        "id": "d4u5wkrqoXzW",
        "outputId": "02783126-fb45-4b42-e737-8068f17a6596"
      },
      "execution_count": null,
      "outputs": [
        {
          "output_type": "stream",
          "name": "stdout",
          "text": [
            "Hello\bvasavi\n"
          ]
        }
      ]
    },
    {
      "cell_type": "code",
      "source": [
        "a=\"Hello\\fvasavi\"\n",
        "print(a)"
      ],
      "metadata": {
        "colab": {
          "base_uri": "https://localhost:8080/"
        },
        "id": "RfxTuLjPocem",
        "outputId": "7c05cded-c049-4014-a3ee-9456ef39972a"
      },
      "execution_count": null,
      "outputs": [
        {
          "output_type": "stream",
          "name": "stdout",
          "text": [
            "Hello\fvasavi\n"
          ]
        }
      ]
    },
    {
      "cell_type": "markdown",
      "source": [
        "**String Method**"
      ],
      "metadata": {
        "id": "5zPjSu-sowTi"
      }
    },
    {
      "cell_type": "code",
      "source": [
        "a=\"vasavi\"\n",
        "b=a.capitalize()\n",
        "print(b)"
      ],
      "metadata": {
        "colab": {
          "base_uri": "https://localhost:8080/"
        },
        "id": "SXNefEQ6olJW",
        "outputId": "5b7a4cc2-9585-423f-c7d3-6895111a716d"
      },
      "execution_count": null,
      "outputs": [
        {
          "output_type": "stream",
          "name": "stdout",
          "text": [
            "Vasavi\n"
          ]
        }
      ]
    },
    {
      "cell_type": "code",
      "source": [
        "a=\"Vasavi\"\n",
        "b=a.casefold()\n",
        "print(b)"
      ],
      "metadata": {
        "colab": {
          "base_uri": "https://localhost:8080/"
        },
        "id": "G45ZHcsLqc6W",
        "outputId": "4153986d-5022-4132-d809-c79df69f07d4"
      },
      "execution_count": null,
      "outputs": [
        {
          "output_type": "stream",
          "name": "stdout",
          "text": [
            "vasavi\n"
          ]
        }
      ]
    },
    {
      "cell_type": "markdown",
      "source": [
        "**NEGATIVE INDEXING**"
      ],
      "metadata": {
        "id": "XL97Dk24mrtD"
      }
    },
    {
      "cell_type": "code",
      "source": [
        "b=\"Vasavi Reddy\"\n",
        "print(b[-5:-2])"
      ],
      "metadata": {
        "id": "YPib-FvhrZek",
        "colab": {
          "base_uri": "https://localhost:8080/"
        },
        "outputId": "1b9b5bae-1b19-4304-95d6-d6a9cbaedd7b"
      },
      "execution_count": null,
      "outputs": [
        {
          "output_type": "stream",
          "name": "stdout",
          "text": [
            "Red\n"
          ]
        }
      ]
    }
  ]
}
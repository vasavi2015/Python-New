{
  "nbformat": 4,
  "nbformat_minor": 0,
  "metadata": {
    "colab": {
      "name": "functions.ipynb",
      "provenance": [],
      "collapsed_sections": [],
      "authorship_tag": "ABX9TyOo+AqJ+RnkqQT129fJ6wQr",
      "include_colab_link": true
    },
    "kernelspec": {
      "name": "python3",
      "display_name": "Python 3"
    },
    "language_info": {
      "name": "python"
    }
  },
  "cells": [
    {
      "cell_type": "markdown",
      "metadata": {
        "id": "view-in-github",
        "colab_type": "text"
      },
      "source": [
        "<a href=\"https://colab.research.google.com/github/vasavi2015/Python-New/blob/Module-2/functions.ipynb\" target=\"_parent\"><img src=\"https://colab.research.google.com/assets/colab-badge.svg\" alt=\"Open In Colab\"/></a>"
      ]
    },
    {
      "cell_type": "markdown",
      "source": [
        "**FUNCTIONS**"
      ],
      "metadata": {
        "id": "odrpG8hDhFXO"
      }
    },
    {
      "cell_type": "markdown",
      "source": [
        "**CREATING AND CALLING A FUNCTION** "
      ],
      "metadata": {
        "id": "gW02gFEZhLMH"
      }
    },
    {
      "cell_type": "code",
      "execution_count": null,
      "metadata": {
        "id": "mme-KR26hEeD",
        "colab": {
          "base_uri": "https://localhost:8080/"
        },
        "outputId": "09d371a3-54d2-4845-b468-d790bcbbc1c7"
      },
      "outputs": [
        {
          "output_type": "stream",
          "name": "stdout",
          "text": [
            "vasavi\n"
          ]
        }
      ],
      "source": [
        "def function():\n",
        "  print(\"vasavi\")\n",
        "function()"
      ]
    },
    {
      "cell_type": "markdown",
      "source": [
        "**ARGUMENTS**"
      ],
      "metadata": {
        "id": "w-eb39q5hzDW"
      }
    },
    {
      "cell_type": "code",
      "source": [
        "def function(name):\n",
        " print(name+\"Yeduru\")\n",
        "function(\"Vasavi \")\n",
        "function(\"Varun \")\n",
        "function(\"Lathisha \")"
      ],
      "metadata": {
        "colab": {
          "base_uri": "https://localhost:8080/"
        },
        "id": "_A-Eim2wi61M",
        "outputId": "86e45e31-ce45-4c13-c61d-df658bcde3a2"
      },
      "execution_count": null,
      "outputs": [
        {
          "output_type": "stream",
          "name": "stdout",
          "text": [
            "Vasavi Yeduru\n",
            "Varun Yeduru\n",
            "Lathisha Yeduru\n"
          ]
        }
      ]
    },
    {
      "cell_type": "markdown",
      "source": [
        "**Number of arguments**"
      ],
      "metadata": {
        "id": "KgfToQnbjadv"
      }
    },
    {
      "cell_type": "code",
      "source": [
        "def function(name, lname):\n",
        "  print(name + \" \" + lname)\n",
        "function(\"Vasavi \", \"Yeduru\")"
      ],
      "metadata": {
        "colab": {
          "base_uri": "https://localhost:8080/"
        },
        "id": "YtXg_m42jRsA",
        "outputId": "10a0ab3c-307a-47dc-e411-13b0b6f0306f"
      },
      "execution_count": null,
      "outputs": [
        {
          "output_type": "stream",
          "name": "stdout",
          "text": [
            "Vasavi  Yeduru\n"
          ]
        }
      ]
    },
    {
      "cell_type": "markdown",
      "source": [
        "**Arbitrary Arguments**"
      ],
      "metadata": {
        "id": "wuerhi8mkKqX"
      }
    },
    {
      "cell_type": "code",
      "source": [
        "def function(*names):\n",
        "   print(\"My Name is \" + names[1])\n",
        "function(\"Varun\",\"Vasavi\",\"Lathi\")\n"
      ],
      "metadata": {
        "colab": {
          "base_uri": "https://localhost:8080/"
        },
        "id": "22uBBG2Sj91o",
        "outputId": "6606c5f0-2c59-4bac-8592-50dbefe2aaa5"
      },
      "execution_count": null,
      "outputs": [
        {
          "output_type": "stream",
          "name": "stdout",
          "text": [
            "My Name is Vasavi\n"
          ]
        }
      ]
    },
    {
      "cell_type": "markdown",
      "source": [
        "**KEYWORD ARGUMENTS**"
      ],
      "metadata": {
        "id": "uw5t4P1tmdjK"
      }
    },
    {
      "cell_type": "code",
      "source": [
        "def function(name3, name2, name1):\n",
        "  print(\"My Name is \" + name3)\n",
        "\n",
        "function(name1 = \"Varun\", name2 = \"Lathi\", name3 = \"Vasavi\")"
      ],
      "metadata": {
        "colab": {
          "base_uri": "https://localhost:8080/"
        },
        "id": "XFOlhTwbmaT-",
        "outputId": "b23c59e9-f6f5-40cb-9976-00617190ca92"
      },
      "execution_count": null,
      "outputs": [
        {
          "output_type": "stream",
          "name": "stdout",
          "text": [
            "My Name is Vasavi\n"
          ]
        }
      ]
    },
    {
      "cell_type": "code",
      "source": [
        ""
      ],
      "metadata": {
        "id": "5WuO9byAnKZN"
      },
      "execution_count": null,
      "outputs": []
    }
  ]
}
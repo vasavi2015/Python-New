{
  "nbformat": 4,
  "nbformat_minor": 0,
  "metadata": {
    "colab": {
      "name": "functions.ipynb",
      "provenance": [],
      "authorship_tag": "ABX9TyPjQ1kqmJNjUnV/aCmgGK+U",
      "include_colab_link": true
    },
    "kernelspec": {
      "name": "python3",
      "display_name": "Python 3"
    },
    "language_info": {
      "name": "python"
    }
  },
  "cells": [
    {
      "cell_type": "markdown",
      "metadata": {
        "id": "view-in-github",
        "colab_type": "text"
      },
      "source": [
        "<a href=\"https://colab.research.google.com/github/vasavi2015/Python-New/blob/Module-2/functions.ipynb\" target=\"_parent\"><img src=\"https://colab.research.google.com/assets/colab-badge.svg\" alt=\"Open In Colab\"/></a>"
      ]
    },
    {
      "cell_type": "markdown",
      "source": [
        ""
      ],
      "metadata": {
        "id": "D7atr3Kf4uOZ"
      }
    },
    {
      "cell_type": "markdown",
      "source": [
        "**write a python program to find power of number without recursion(input n=2 , p=3)**\n"
      ],
      "metadata": {
        "id": "moN7_ooalX-g"
      }
    },
    {
      "cell_type": "code",
      "execution_count": null,
      "metadata": {
        "colab": {
          "base_uri": "https://localhost:8080/"
        },
        "id": "yClM5RnalXOL",
        "outputId": "309fa827-1509-4cda-c646-2b411de10f4d"
      },
      "outputs": [
        {
          "output_type": "stream",
          "name": "stdout",
          "text": [
            "2  2\n",
            "4\n"
          ]
        }
      ],
      "source": [
        "def pow(a,b):\n",
        " print(a**b)\n",
        "a,b=map(int,input().split())\n",
        "pow(a,b)"
      ]
    },
    {
      "cell_type": "markdown",
      "source": [
        "**write a python program to find power of number with recursion(input n=2 , p=3)**\n"
      ],
      "metadata": {
        "id": "Y5J7_2yznKsA"
      }
    },
    {
      "cell_type": "code",
      "source": [
        "def power(a,b):\n",
        " if b==0:\n",
        "   return 1\n",
        " return(a*power(a,b-1))\n",
        "a=int(input(\"Enter a Number\"))\n",
        "b=int(input(\"Enter a Number\"))\n",
        "print(power(a,b))"
      ],
      "metadata": {
        "colab": {
          "base_uri": "https://localhost:8080/"
        },
        "id": "N0Mm_wRjm8RN",
        "outputId": "afa1a38f-9384-4ebb-c825-e565a0ea9518"
      },
      "execution_count": null,
      "outputs": [
        {
          "output_type": "stream",
          "name": "stdout",
          "text": [
            "Enter a Number2\n",
            "Enter a Number3\n",
            "8\n"
          ]
        }
      ]
    },
    {
      "cell_type": "markdown",
      "source": [
        "**write a program to sort tuple by total digits (input: list=[(3,4,6,723),(1,2),(134,234,34)])\n",
        "      output:[(1,2)(3,4,6,723)(34,134,234)]**"
      ],
      "metadata": {
        "id": "pjDw1ehVp-Qo"
      }
    },
    {
      "cell_type": "code",
      "source": [
        "a=eval(input(\"Enter List of tupples\"))\n",
        "print(sorted(a))"
      ],
      "metadata": {
        "colab": {
          "base_uri": "https://localhost:8080/"
        },
        "id": "si2ZRGnirFGi",
        "outputId": "3b86e982-2d2d-4331-a127-bd946bc1eecb"
      },
      "execution_count": null,
      "outputs": [
        {
          "output_type": "stream",
          "name": "stdout",
          "text": [
            "Enter List of tupples(3,4,6,723),(1,2),(134,234,34)\n",
            "[(1, 2), (3, 4, 6, 723), (134, 234, 34)]\n"
          ]
        }
      ]
    },
    {
      "cell_type": "markdown",
      "source": [
        "**take five subjects from the user and display the grade of the student,if average is 90-100(o),80-89(a+),70-79(a)...**"
      ],
      "metadata": {
        "id": "VsIV19f7rkJN"
      }
    },
    {
      "cell_type": "code",
      "source": [
        "a=int(input(\"Enter marks of English:\"))\n",
        "b=int(input(\"Enter marks of Maths:\"))\n",
        "c=int(input(\"Enter marks of Science:\"))\n",
        "d=int(input(\"Enter marks of Social:\"))\n",
        "e=int(input(\"Enter marks of Hindi:\"))\n",
        "avg=(a+b+c+d+e)/5\n",
        "if (avg>=90):\n",
        " print(\"Grade O\")\n",
        "elif(avg>=80 & avg<90):\n",
        " print(\"Grade A+\")\n",
        "elif(avg>=70 & avg<80):\n",
        " print(\"Grade A\")\n",
        "elif(avg>=60 & avg<70):\n",
        " print(\"Grade B+\")\n",
        "elif(avg>=50 & avg<60):\n",
        " print(\"Grade B\")\n",
        "else:\n",
        "  print(\"Grade C\")\n"
      ],
      "metadata": {
        "colab": {
          "base_uri": "https://localhost:8080/"
        },
        "id": "Hh5aQb18rW9j",
        "outputId": "e5380de8-6fa7-47f6-ad51-e57e4f91bac7"
      },
      "execution_count": null,
      "outputs": [
        {
          "output_type": "stream",
          "name": "stdout",
          "text": [
            "Enter marks of English:95\n",
            "Enter marks of Maths:99\n",
            "Enter marks of Science:94\n",
            "Enter marks of Social:96\n",
            "Enter marks of Hindi:97\n",
            "Grade O\n"
          ]
        }
      ]
    },
    {
      "cell_type": "markdown",
      "source": [
        "**write a python program that prints 1 if all three given numbers are ascending order.**"
      ],
      "metadata": {
        "id": "ZcjZsMWvuMIQ"
      }
    },
    {
      "cell_type": "code",
      "source": [
        "a=[4,2,3]\n",
        "a.sort()\n",
        "print(a)\n",
        "print(1)"
      ],
      "metadata": {
        "colab": {
          "base_uri": "https://localhost:8080/"
        },
        "id": "VFPVA0g9uFIX",
        "outputId": "dde07923-9911-49b5-aee4-60f7db095993"
      },
      "execution_count": null,
      "outputs": [
        {
          "output_type": "stream",
          "name": "stdout",
          "text": [
            "[2, 3, 4]\n",
            "1\n"
          ]
        }
      ]
    },
    {
      "cell_type": "code",
      "source": [
        "a,b,c=map(int,input().split())\n",
        "if c>b and b>a:\n",
        "  print(1)"
      ],
      "metadata": {
        "colab": {
          "base_uri": "https://localhost:8080/"
        },
        "id": "aOv2bFiywfmk",
        "outputId": "9118c559-831a-4b68-9bde-e96406f8ce2d"
      },
      "execution_count": null,
      "outputs": [
        {
          "output_type": "stream",
          "name": "stdout",
          "text": [
            "2 3 4\n",
            "1\n"
          ]
        }
      ]
    },
    {
      "cell_type": "markdown",
      "source": [
        "**Check a given number is perfect number are not**"
      ],
      "metadata": {
        "id": "pW0iy3h9vxFz"
      }
    },
    {
      "cell_type": "code",
      "source": [
        "a=int(input(\"Enter a Number:\"))\n",
        "sum1=0\n",
        "for i in range(1,a):\n",
        "  if (a%i==0):\n",
        "   sum1=sum1+i\n",
        "  if sum1==a:\n",
        "      print(\"perfect number\")\n",
        "  else:\n",
        "      print(\"not a perfect number\")\n"
      ],
      "metadata": {
        "colab": {
          "base_uri": "https://localhost:8080/"
        },
        "id": "mZU9b-Vovse6",
        "outputId": "c33965de-68c6-4101-a3c0-3b9cb335da8c"
      },
      "execution_count": null,
      "outputs": [
        {
          "output_type": "stream",
          "name": "stdout",
          "text": [
            "Enter a Number:6\n",
            "not a perfect number\n",
            "not a perfect number\n",
            "perfect number\n",
            "perfect number\n",
            "perfect number\n"
          ]
        }
      ]
    },
    {
      "cell_type": "code",
      "source": [
        "a=int(input(\"Enter a Number:\"))\n",
        "sum1=0\n",
        "for i in range(1,a):\n",
        "  if (a%1==0):\n",
        "    sum1=sum1+i\n",
        "if (sum1==a):\n",
        "   print(\"perfect number\")\n",
        "else:\n",
        "   print(\"not a perfect number\")\n"
      ],
      "metadata": {
        "colab": {
          "base_uri": "https://localhost:8080/"
        },
        "id": "oTS3v9bk0U-V",
        "outputId": "f09505bf-ed3d-4d88-90e3-eba29b3b674d"
      },
      "execution_count": null,
      "outputs": [
        {
          "output_type": "stream",
          "name": "stdout",
          "text": [
            "Enter a Number:7\n",
            "not a perfect number\n"
          ]
        }
      ]
    },
    {
      "cell_type": "code",
      "source": [
        ""
      ],
      "metadata": {
        "id": "t0FfX5v904Ff"
      },
      "execution_count": null,
      "outputs": []
    }
  ]
}
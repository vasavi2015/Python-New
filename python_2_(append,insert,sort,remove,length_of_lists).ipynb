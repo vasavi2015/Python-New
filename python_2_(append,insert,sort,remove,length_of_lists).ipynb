{
  "nbformat": 4,
  "nbformat_minor": 0,
  "metadata": {
    "colab": {
      "name": "python 2 (append,insert,sort,remove,length of lists).ipynb",
      "provenance": [],
      "collapsed_sections": [],
      "include_colab_link": true
    },
    "kernelspec": {
      "name": "python3",
      "display_name": "Python 3"
    },
    "language_info": {
      "name": "python"
    }
  },
  "cells": [
    {
      "cell_type": "markdown",
      "metadata": {
        "id": "view-in-github",
        "colab_type": "text"
      },
      "source": [
        "<a href=\"https://colab.research.google.com/github/vasavi2015/Python-New/blob/Module-2/python_2_(append%2Cinsert%2Csort%2Cremove%2Clength_of_lists).ipynb\" target=\"_parent\"><img src=\"https://colab.research.google.com/assets/colab-badge.svg\" alt=\"Open In Colab\"/></a>"
      ]
    },
    {
      "cell_type": "code",
      "source": [
        "fruit=[\"apple\",\"orange\",\"mango\",\"grapes\"]\n",
        "print(fruit)\n",
        "print(fruit[0:2])\n",
        "print(fruit[:2])\n",
        "print(fruit[1:2])\n",
        "print(fruit[:1])\n",
        "print(fruit[1:])"
      ],
      "metadata": {
        "colab": {
          "base_uri": "https://localhost:8080/"
        },
        "id": "HL9hPNa5XHsp",
        "outputId": "6299f5cc-7bba-47f9-f21b-c5eaaa5da980"
      },
      "execution_count": null,
      "outputs": [
        {
          "output_type": "stream",
          "name": "stdout",
          "text": [
            "['apple', 'orange', 'mango']\n",
            "['apple', 'orange']\n",
            "['apple', 'orange']\n",
            "['orange']\n",
            "['apple']\n",
            "['orange', 'mango']\n"
          ]
        }
      ]
    },
    {
      "cell_type": "markdown",
      "source": [
        "**APPEND**\n",
        "\n"
      ],
      "metadata": {
        "id": "xRJoUQYkZ7pv"
      }
    },
    {
      "cell_type": "code",
      "source": [
        "fruit=[\"apple\",\"orange\",\"mango\",\"grapes\"]\n",
        "print(fruit)\n",
        "fruit.append(\"watermelon\")\n",
        "print(fruit)"
      ],
      "metadata": {
        "colab": {
          "base_uri": "https://localhost:8080/"
        },
        "id": "-gVRdmTIZTYW",
        "outputId": "d4ef8cc4-7238-4522-a1bb-7ad64ecc3a82"
      },
      "execution_count": null,
      "outputs": [
        {
          "output_type": "stream",
          "name": "stdout",
          "text": [
            "['apple', 'orange', 'mango', 'grapes']\n",
            "['apple', 'orange', 'mango', 'grapes', 'watermelon']\n"
          ]
        }
      ]
    },
    {
      "cell_type": "markdown",
      "source": [
        "**Insert an item according to position**"
      ],
      "metadata": {
        "id": "FdBz9i0FdhmM"
      }
    },
    {
      "cell_type": "code",
      "source": [
        "fruit=[\"apple\",\"orange\",\"mango\",\"grapes\"]\n",
        "print(fruit)\n",
        "fruit.append(\"watermelon\")\n",
        "print(fruit)\n",
        "fruit.insert(1,\"muskmelon\")\n",
        "print(fruit)"
      ],
      "metadata": {
        "colab": {
          "base_uri": "https://localhost:8080/"
        },
        "id": "Q1lCWSmZasCH",
        "outputId": "18979f61-ccd2-425a-f39f-b9c94b7e47d3"
      },
      "execution_count": null,
      "outputs": [
        {
          "output_type": "stream",
          "name": "stdout",
          "text": [
            "['apple', 'orange', 'mango', 'grapes']\n",
            "['apple', 'orange', 'mango', 'grapes', 'watermelon']\n",
            "['apple', 'muskmelon', 'orange', 'mango', 'grapes', 'watermelon']\n"
          ]
        }
      ]
    },
    {
      "cell_type": "markdown",
      "source": [
        "**Remove an** **item**"
      ],
      "metadata": {
        "id": "cuiD73WjdSeC"
      }
    },
    {
      "cell_type": "code",
      "source": [
        "fruit=[\"apple\",\"orange\",\"mango\",\"grapes\"]\n",
        "print(fruit)\n",
        "fruit.remove(\"grapes\")\n",
        "print(fruit)"
      ],
      "metadata": {
        "colab": {
          "base_uri": "https://localhost:8080/"
        },
        "id": "eSY69xdpdZQh",
        "outputId": "9e6c9d89-64df-471c-b9d4-832cf48008d4"
      },
      "execution_count": null,
      "outputs": [
        {
          "output_type": "stream",
          "name": "stdout",
          "text": [
            "['apple', 'orange', 'mango', 'grapes']\n",
            "['apple', 'orange', 'mango']\n"
          ]
        }
      ]
    },
    {
      "cell_type": "markdown",
      "source": [
        "**Remove a specified item using pop**"
      ],
      "metadata": {
        "id": "SlZ5yuZNfGCU"
      }
    },
    {
      "cell_type": "code",
      "source": [
        "fruit=[\"apple\",\"orange\",\"mango\",\"grapes\"]\n",
        "print(fruit)\n",
        "fruit.pop(1)\n",
        "print(fruit)"
      ],
      "metadata": {
        "colab": {
          "base_uri": "https://localhost:8080/"
        },
        "id": "Lic2we_nddab",
        "outputId": "a7d5805f-d7e3-4f16-9e62-7585675ac46a"
      },
      "execution_count": null,
      "outputs": [
        {
          "output_type": "stream",
          "name": "stdout",
          "text": [
            "['apple', 'orange', 'mango', 'grapes']\n",
            "['apple', 'mango', 'grapes']\n"
          ]
        }
      ]
    },
    {
      "cell_type": "markdown",
      "source": [
        "**sorting**"
      ],
      "metadata": {
        "id": "51KuNJFOiOUy"
      }
    },
    {
      "cell_type": "markdown",
      "source": [
        "**Ascending**"
      ],
      "metadata": {
        "id": "1UHE4dOvjSYY"
      }
    },
    {
      "cell_type": "code",
      "source": [
        "num=[1,7,6]\n",
        "num.sort()\n",
        "print(num)"
      ],
      "metadata": {
        "colab": {
          "base_uri": "https://localhost:8080/"
        },
        "id": "aRcpQeK9egit",
        "outputId": "f22af91b-3359-4217-bf9c-1fbde3d339aa"
      },
      "execution_count": null,
      "outputs": [
        {
          "output_type": "stream",
          "name": "stdout",
          "text": [
            "[1, 6, 7]\n"
          ]
        }
      ]
    },
    {
      "cell_type": "markdown",
      "source": [
        "**Descending**"
      ],
      "metadata": {
        "id": "zYsa2TrajW34"
      }
    },
    {
      "cell_type": "code",
      "source": [
        "num=[1,5,6]\n",
        "num.sort(reverse=True)\n",
        "print(num)"
      ],
      "metadata": {
        "colab": {
          "base_uri": "https://localhost:8080/"
        },
        "id": "gpAt1ej4iyYK",
        "outputId": "65a0cf5d-ba16-465a-815b-6b35bdb009d0"
      },
      "execution_count": null,
      "outputs": [
        {
          "output_type": "stream",
          "name": "stdout",
          "text": [
            "[6, 5, 1]\n"
          ]
        }
      ]
    },
    {
      "cell_type": "markdown",
      "source": [
        "**Sorting alphbetically**"
      ],
      "metadata": {
        "id": "zOOyPVjWjfdM"
      }
    },
    {
      "cell_type": "code",
      "source": [
        "fruit=[\"apple\",\"orange\",\"mango\",\"grapes\"]\n",
        "fruit.sort()\n",
        "print(fruit)"
      ],
      "metadata": {
        "colab": {
          "base_uri": "https://localhost:8080/"
        },
        "id": "QGIMVyjzjJlo",
        "outputId": "4f02ae6f-a4f0-4415-c354-f88a16545d98"
      },
      "execution_count": null,
      "outputs": [
        {
          "output_type": "stream",
          "name": "stdout",
          "text": [
            "['apple', 'grapes', 'mango', 'orange']\n"
          ]
        }
      ]
    },
    {
      "cell_type": "markdown",
      "source": [
        "Length of list"
      ],
      "metadata": {
        "id": "My3u_rrFml1D"
      }
    },
    {
      "cell_type": "code",
      "source": [
        "fruit=[\"apple\",\"orange\",\"mango\",\"grapes\"]\n",
        "print(len(fruit))"
      ],
      "metadata": {
        "colab": {
          "base_uri": "https://localhost:8080/"
        },
        "id": "P6G6Ju_Xjuzs",
        "outputId": "c8115cc6-d42f-4068-81cc-930f4fde9866"
      },
      "execution_count": null,
      "outputs": [
        {
          "output_type": "stream",
          "name": "stdout",
          "text": [
            "4\n"
          ]
        }
      ]
    }
  ]
}
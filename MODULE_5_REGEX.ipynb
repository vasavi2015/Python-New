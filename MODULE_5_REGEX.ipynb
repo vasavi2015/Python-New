{
  "nbformat": 4,
  "nbformat_minor": 0,
  "metadata": {
    "colab": {
      "name": "MODULE 5 REGEX.ipynb",
      "provenance": [],
      "authorship_tag": "ABX9TyPIMkqIjpIkprSXs1YGo033",
      "include_colab_link": true
    },
    "kernelspec": {
      "name": "python3",
      "display_name": "Python 3"
    },
    "language_info": {
      "name": "python"
    }
  },
  "cells": [
    {
      "cell_type": "markdown",
      "metadata": {
        "id": "view-in-github",
        "colab_type": "text"
      },
      "source": [
        "<a href=\"https://colab.research.google.com/github/vasavi2015/Python-New/blob/Module-4/MODULE_5_REGEX.ipynb\" target=\"_parent\"><img src=\"https://colab.research.google.com/assets/colab-badge.svg\" alt=\"Open In Colab\"/></a>"
      ]
    },
    {
      "cell_type": "markdown",
      "source": [
        "#MODULE 5"
      ],
      "metadata": {
        "id": "ecrciOIuU0My"
      }
    },
    {
      "cell_type": "code",
      "execution_count": 1,
      "metadata": {
        "colab": {
          "base_uri": "https://localhost:8080/"
        },
        "id": "uWqwFCTXBAi9",
        "outputId": "c6495204-7414-4d3a-95a1-5c792b9594f8"
      },
      "outputs": [
        {
          "output_type": "stream",
          "name": "stdout",
          "text": [
            "No I am not studying in GITAM\n"
          ]
        }
      ],
      "source": [
        "import re\n",
        "text = \"I am Vasavi, studying in GITAM, Branch Core CSE\"\n",
        "x = re.search(\"^I.*studying$\",text)\n",
        "if x:\n",
        " print(\"YES! I am also studying in GITAM\")\n",
        "else:\n",
        " print(\"No I am not studying in GITAM\")\n"
      ]
    },
    {
      "cell_type": "markdown",
      "source": [
        "# Findall function"
      ],
      "metadata": {
        "id": "F1Sx2lomBOkn"
      }
    },
    {
      "cell_type": "code",
      "source": [
        "import re\n",
        "text = \"Time is very much valuable in our life, each and every second is very much valuable\"\n",
        "x = re.findall(\"is\",text)\n",
        "print(x)\n"
      ],
      "metadata": {
        "colab": {
          "base_uri": "https://localhost:8080/"
        },
        "id": "2hTwju1KBFyL",
        "outputId": "1b7776cf-ec64-44d6-ea04-93645ae6c6a5"
      },
      "execution_count": 3,
      "outputs": [
        {
          "output_type": "stream",
          "name": "stdout",
          "text": [
            "['is', 'is']\n"
          ]
        }
      ]
    },
    {
      "cell_type": "markdown",
      "source": [
        "# Findall function if not found"
      ],
      "metadata": {
        "id": "AxrypcOeBWRq"
      }
    },
    {
      "cell_type": "code",
      "source": [
        "import re\n",
        "text = \"Time is very much valuable in our life, each and every second is very much valuable\"\n",
        "x = re.findall(\"no\",text)\n",
        "print(x)\n"
      ],
      "metadata": {
        "colab": {
          "base_uri": "https://localhost:8080/"
        },
        "id": "bq6whrMgBRd8",
        "outputId": "5bbbcf15-38a2-45bd-b351-346b34671272"
      },
      "execution_count": 5,
      "outputs": [
        {
          "output_type": "stream",
          "name": "stdout",
          "text": [
            "[]\n"
          ]
        }
      ]
    },
    {
      "cell_type": "markdown",
      "source": [
        "# Findall function [arn]"
      ],
      "metadata": {
        "id": "9HI2WsdbBf5u"
      }
    },
    {
      "cell_type": "code",
      "source": [
        "import re\n",
        "text = \"Time is very much valuable in our life, each and every second is very much valuable\"\n",
        "x = re.findall(\"[arn]\",text)\n",
        "print(x)\n"
      ],
      "metadata": {
        "colab": {
          "base_uri": "https://localhost:8080/"
        },
        "id": "mTv1RsdLBcfm",
        "outputId": "9ffe799e-be4e-4c55-81f7-755ac0b4f0a2"
      },
      "execution_count": 7,
      "outputs": [
        {
          "output_type": "stream",
          "name": "stdout",
          "text": [
            "['r', 'a', 'a', 'n', 'r', 'a', 'a', 'n', 'r', 'n', 'r', 'a', 'a']\n"
          ]
        }
      ]
    },
    {
      "cell_type": "markdown",
      "source": [
        "# Findall function [a-n]\n"
      ],
      "metadata": {
        "id": "kH1D6UmDBlHE"
      }
    },
    {
      "cell_type": "code",
      "source": [
        "import re\n",
        "text = \"Time is very much valuable in our life, each and every second is very much valuable\"\n",
        "x = re.findall(\"[a-n]\",text)\n",
        "print(x)"
      ],
      "metadata": {
        "colab": {
          "base_uri": "https://localhost:8080/"
        },
        "id": "MTLh4iEJBitj",
        "outputId": "44c09d10-04d4-406a-9d70-bdaf0adb289f"
      },
      "execution_count": 8,
      "outputs": [
        {
          "output_type": "stream",
          "name": "stdout",
          "text": [
            "['i', 'm', 'e', 'i', 'e', 'm', 'c', 'h', 'a', 'l', 'a', 'b', 'l', 'e', 'i', 'n', 'l', 'i', 'f', 'e', 'e', 'a', 'c', 'h', 'a', 'n', 'd', 'e', 'e', 'e', 'c', 'n', 'd', 'i', 'e', 'm', 'c', 'h', 'a', 'l', 'a', 'b', 'l', 'e']\n"
          ]
        }
      ]
    },
    {
      "cell_type": "markdown",
      "source": [
        "# Findall function [^arn]\n"
      ],
      "metadata": {
        "id": "NeRP_RBxBw7D"
      }
    },
    {
      "cell_type": "code",
      "source": [
        "import re\n",
        "text = \"Time is very much valuable in our life, each and every second is very much valuable\"\n",
        "x = re.findall(\"[^arn]\",text)\n",
        "print(x)"
      ],
      "metadata": {
        "colab": {
          "base_uri": "https://localhost:8080/"
        },
        "id": "shRfdmh3BsMW",
        "outputId": "fb32bbfa-0d3f-482a-8fc9-45bf52bb43b0"
      },
      "execution_count": 9,
      "outputs": [
        {
          "output_type": "stream",
          "name": "stdout",
          "text": [
            "['T', 'i', 'm', 'e', ' ', 'i', 's', ' ', 'v', 'e', 'y', ' ', 'm', 'u', 'c', 'h', ' ', 'v', 'l', 'u', 'b', 'l', 'e', ' ', 'i', ' ', 'o', 'u', ' ', 'l', 'i', 'f', 'e', ',', ' ', 'e', 'c', 'h', ' ', 'd', ' ', 'e', 'v', 'e', 'y', ' ', 's', 'e', 'c', 'o', 'd', ' ', 'i', 's', ' ', 'v', 'e', 'y', ' ', 'm', 'u', 'c', 'h', ' ', 'v', 'l', 'u', 'b', 'l', 'e']\n"
          ]
        }
      ]
    },
    {
      "cell_type": "markdown",
      "source": [
        "# Findall function [0123] for not found"
      ],
      "metadata": {
        "id": "4-H0VCepB4H0"
      }
    },
    {
      "cell_type": "code",
      "source": [
        "import re\n",
        "text = \"Time is very much valuable in our life, each and every second is very much valuable\"\n",
        "x = re.findall(\"[0123]\",text)\n",
        "print(x)\n"
      ],
      "metadata": {
        "colab": {
          "base_uri": "https://localhost:8080/"
        },
        "id": "vYfX1Dy4B3OC",
        "outputId": "a27c2280-0835-42da-b115-99243f8a1618"
      },
      "execution_count": 10,
      "outputs": [
        {
          "output_type": "stream",
          "name": "stdout",
          "text": [
            "[]\n"
          ]
        }
      ]
    },
    {
      "cell_type": "markdown",
      "source": [
        "# Findall function [0-9]"
      ],
      "metadata": {
        "id": "ECKDfhEOB_iO"
      }
    },
    {
      "cell_type": "code",
      "source": [
        "import re\n",
        "text = \"10 times before 11:45 AM and cgpa is 10\"\n",
        "x = re.findall(\"[0-9]\",text)\n",
        "print(x)"
      ],
      "metadata": {
        "colab": {
          "base_uri": "https://localhost:8080/"
        },
        "id": "T5mXCIciB-X1",
        "outputId": "6c3e1706-7587-4617-89b6-fa986e888a48"
      },
      "execution_count": 11,
      "outputs": [
        {
          "output_type": "stream",
          "name": "stdout",
          "text": [
            "['1', '0', '1', '1', '4', '5', '1', '0']\n"
          ]
        }
      ]
    },
    {
      "cell_type": "markdown",
      "source": [
        "# Findall function [0-9]"
      ],
      "metadata": {
        "id": "_ggneHo_CIQP"
      }
    },
    {
      "cell_type": "code",
      "source": [
        "import re\n",
        "text = \"10 times before 11:45 AM and cgpa is 10\"\n",
        "x = re.findall(\"[0-5][0-9]\",text)\n",
        "print(x)"
      ],
      "metadata": {
        "colab": {
          "base_uri": "https://localhost:8080/"
        },
        "id": "uP5FA73ECF8X",
        "outputId": "1afca761-2892-4765-9f9a-95a1589c566d"
      },
      "execution_count": 12,
      "outputs": [
        {
          "output_type": "stream",
          "name": "stdout",
          "text": [
            "['10', '11', '45', '10']\n"
          ]
        }
      ]
    },
    {
      "cell_type": "markdown",
      "source": [
        "# Findall function [0-5][0-9]"
      ],
      "metadata": {
        "id": "MzcHeOazCPSJ"
      }
    },
    {
      "cell_type": "code",
      "source": [
        "import re\n",
        "text = \"10 times before 11:45 AM and cgpa is 10 and my score is 963 in inter\"\n",
        "x = re.findall(\"[0-5][0-9]\",text)\n",
        "print(x)\n"
      ],
      "metadata": {
        "colab": {
          "base_uri": "https://localhost:8080/"
        },
        "id": "1RWBqHnVCOhT",
        "outputId": "c74becac-7879-4f53-9156-072c87addc66"
      },
      "execution_count": 14,
      "outputs": [
        {
          "output_type": "stream",
          "name": "stdout",
          "text": [
            "['10', '11', '45', '10']\n"
          ]
        }
      ]
    },
    {
      "cell_type": "markdown",
      "source": [
        "# Findall function [a-zA-Z]"
      ],
      "metadata": {
        "id": "Ou3_vwFJCYjx"
      }
    },
    {
      "cell_type": "code",
      "source": [
        "import re\n",
        "text = \"10 times before 11:45 AM and cgpa is 10\"\n",
        "x = re.findall(\"[a-zA-Z]\",text)\n",
        "print(x)"
      ],
      "metadata": {
        "colab": {
          "base_uri": "https://localhost:8080/"
        },
        "id": "0mPdR0GACUKh",
        "outputId": "8e718a3d-7d52-4393-f94b-850d9158eb5f"
      },
      "execution_count": 15,
      "outputs": [
        {
          "output_type": "stream",
          "name": "stdout",
          "text": [
            "['t', 'i', 'm', 'e', 's', 'b', 'e', 'f', 'o', 'r', 'e', 'A', 'M', 'a', 'n', 'd', 'c', 'g', 'p', 'a', 'i', 's']\n"
          ]
        }
      ]
    },
    {
      "cell_type": "markdown",
      "source": [
        "# Findall function [+] for not found"
      ],
      "metadata": {
        "id": "JvMCXD92CZK9"
      }
    },
    {
      "cell_type": "code",
      "source": [
        "import re\n",
        "text = \"10 times before 11:45 AM and cgpa is 10\"\n",
        "x = re.findall(\"[+]\",text)\n",
        "print(x)\n"
      ],
      "metadata": {
        "colab": {
          "base_uri": "https://localhost:8080/"
        },
        "id": "nxAkkfUhCZdt",
        "outputId": "91de05a2-cd78-42c2-dcfe-c4d526db07e2"
      },
      "execution_count": 16,
      "outputs": [
        {
          "output_type": "stream",
          "name": "stdout",
          "text": [
            "[]\n"
          ]
        }
      ]
    },
    {
      "cell_type": "markdown",
      "source": [
        "# The search() function"
      ],
      "metadata": {
        "id": "BwJCMMGMCZu6"
      }
    },
    {
      "cell_type": "code",
      "source": [
        "import re\n",
        "text = \"Be smart and brave at any situation you face in this world\"\n",
        "x = re.search(\"\\s\", text)\n",
        "print(\"The first white-space character is located in position:\", \n",
        "x.start()) "
      ],
      "metadata": {
        "colab": {
          "base_uri": "https://localhost:8080/"
        },
        "id": "b1bD705dCZ5p",
        "outputId": "ddbea7ca-711d-4fb3-ddf7-f1bcb612336a"
      },
      "execution_count": 17,
      "outputs": [
        {
          "output_type": "stream",
          "name": "stdout",
          "text": [
            "The first white-space character is located in position: 2\n"
          ]
        }
      ]
    },
    {
      "cell_type": "markdown",
      "source": [
        "# The split() Function"
      ],
      "metadata": {
        "id": "g1v5WiSICaHY"
      }
    },
    {
      "cell_type": "code",
      "source": [
        "import re\n",
        "text = \"Be smart and brave at any situation you face in this world\"\n",
        "x = re.split(\"\\s\", text)\n",
        "print(x)"
      ],
      "metadata": {
        "colab": {
          "base_uri": "https://localhost:8080/"
        },
        "id": "NF5ZPjssCaRK",
        "outputId": "94cdb066-9197-4524-b7b4-e661a4fa9c32"
      },
      "execution_count": 18,
      "outputs": [
        {
          "output_type": "stream",
          "name": "stdout",
          "text": [
            "['Be', 'smart', 'and', 'brave', 'at', 'any', 'situation', 'you', 'face', 'in', 'this', 'world']\n"
          ]
        }
      ]
    },
    {
      "cell_type": "markdown",
      "source": [
        "# The split() Function by numbering(occurences)\n"
      ],
      "metadata": {
        "id": "JzUwwgkrCabD"
      }
    },
    {
      "cell_type": "code",
      "source": [
        "import re\n",
        "text = \"Be smart and brave at any situation you face in this world\"\n",
        "x = re.split(\"\\s\", text, 7)\n",
        "print(x)\n",
        "\n"
      ],
      "metadata": {
        "colab": {
          "base_uri": "https://localhost:8080/"
        },
        "id": "I-0ieF3SCalX",
        "outputId": "3aa41288-9c6c-4b6f-f10e-a5746015cb55"
      },
      "execution_count": 19,
      "outputs": [
        {
          "output_type": "stream",
          "name": "stdout",
          "text": [
            "['Be', 'smart', 'and', 'brave', 'at', 'any', 'situation', 'you face in this world']\n"
          ]
        }
      ]
    },
    {
      "cell_type": "markdown",
      "source": [
        "# The sub() function"
      ],
      "metadata": {
        "id": "C35pA1RLCas-"
      }
    },
    {
      "cell_type": "code",
      "source": [
        "import re\n",
        "text = \"Be smart and brave at any situation you face in this world\"\n",
        "x = re.sub(\"\\s\", \"10\", text)\n",
        "print(x)\n"
      ],
      "metadata": {
        "colab": {
          "base_uri": "https://localhost:8080/"
        },
        "id": "qKAgMdfiCa1C",
        "outputId": "dad85d40-58c3-42de-a23f-7a7c150c481b"
      },
      "execution_count": 20,
      "outputs": [
        {
          "output_type": "stream",
          "name": "stdout",
          "text": [
            "Be10smart10and10brave10at10any10situation10you10face10in10this10world\n"
          ]
        }
      ]
    },
    {
      "cell_type": "markdown",
      "source": [
        "# The sub() function (By replacing occurences)"
      ],
      "metadata": {
        "id": "a8e2jiByCa8g"
      }
    },
    {
      "cell_type": "code",
      "source": [
        "import re\n",
        "text = \"Be smart and brave at any situation you face in this world\"\n",
        "x = re.sub(\"\\s\", \"10\", text, 6)\n",
        "print(x)\n"
      ],
      "metadata": {
        "colab": {
          "base_uri": "https://localhost:8080/"
        },
        "id": "ccynW9wBCbEK",
        "outputId": "46668a47-bcff-40aa-a4e5-8118f59ca8fc"
      },
      "execution_count": 21,
      "outputs": [
        {
          "output_type": "stream",
          "name": "stdout",
          "text": [
            "Be10smart10and10brave10at10any10situation you face in this world\n"
          ]
        }
      ]
    },
    {
      "cell_type": "markdown",
      "source": [
        "# Findall (\\d)\n"
      ],
      "metadata": {
        "id": "FpIwtEkDCbMq"
      }
    },
    {
      "cell_type": "code",
      "source": [
        "import re\n",
        "text = \"Time is very much valuable in our life, each and every [0.1] second is very much valuable\"\n",
        "x = re.findall(\"\\d\",text)\n",
        "print(x)\n"
      ],
      "metadata": {
        "colab": {
          "base_uri": "https://localhost:8080/"
        },
        "id": "a2e3qidXCbUG",
        "outputId": "e2cb9133-94ad-4a51-d0d3-9996447727a3"
      },
      "execution_count": 23,
      "outputs": [
        {
          "output_type": "stream",
          "name": "stdout",
          "text": [
            "['0', '1']\n"
          ]
        }
      ]
    },
    {
      "cell_type": "markdown",
      "source": [
        "# Findall (he..o)"
      ],
      "metadata": {
        "id": "FRF0eyexCbbx"
      }
    },
    {
      "cell_type": "code",
      "source": [
        "import re\n",
        "text = \"Hello World! This is chitti, The robo boy\"\n",
        "x = re.findall(\"he..o\",text)\n",
        "print(x)\n"
      ],
      "metadata": {
        "colab": {
          "base_uri": "https://localhost:8080/"
        },
        "id": "15Z5ajGtCbjO",
        "outputId": "237776c6-558f-4adf-8eda-807b83f456fb"
      },
      "execution_count": 24,
      "outputs": [
        {
          "output_type": "stream",
          "name": "stdout",
          "text": [
            "['he ro']\n"
          ]
        }
      ]
    },
    {
      "cell_type": "markdown",
      "source": [
        "# Findall (^hello)"
      ],
      "metadata": {
        "id": "WROf53MnCbqp"
      }
    },
    {
      "cell_type": "code",
      "source": [
        "import re\n",
        "text = \"Hello World! This is chitti, The robo boy\"\n",
        "x = re.findall(\"^Hello\",text)\n",
        "print(x)\n"
      ],
      "metadata": {
        "colab": {
          "base_uri": "https://localhost:8080/"
        },
        "id": "4bev7hicCbx_",
        "outputId": "cd4024bf-2980-45db-db27-bded4a9533ee"
      },
      "execution_count": 25,
      "outputs": [
        {
          "output_type": "stream",
          "name": "stdout",
          "text": [
            "['Hello']\n"
          ]
        }
      ]
    },
    {
      "cell_type": "code",
      "source": [
        "import re\n",
        "text = \"Hello planet! This is chitti, The robo boy\"\n",
        "x = re.findall(\"planet!$\",text)\n",
        "print(x)"
      ],
      "metadata": {
        "colab": {
          "base_uri": "https://localhost:8080/"
        },
        "id": "OGbEgpaqCcOZ",
        "outputId": "7137e8cb-3bbb-47fe-a88a-b0a4d0853f77"
      },
      "execution_count": 26,
      "outputs": [
        {
          "output_type": "stream",
          "name": "stdout",
          "text": [
            "[]\n"
          ]
        }
      ]
    },
    {
      "cell_type": "markdown",
      "source": [
        "# Findall Zero or more occurrences"
      ],
      "metadata": {
        "id": "DZ4vpU3iCcuR"
      }
    },
    {
      "cell_type": "code",
      "source": [
        "import re\n",
        "text = \"Hello World! This is chitti, The robo boy\"\n",
        "x = re.findall(\"he.*o\",text)\n",
        "print(x)"
      ],
      "metadata": {
        "colab": {
          "base_uri": "https://localhost:8080/"
        },
        "id": "_aeCxXUBCc2g",
        "outputId": "08a723da-b09c-4359-9d07-c9bda621f188"
      },
      "execution_count": 27,
      "outputs": [
        {
          "output_type": "stream",
          "name": "stdout",
          "text": [
            "['he robo bo']\n"
          ]
        }
      ]
    },
    {
      "cell_type": "markdown",
      "source": [
        "# Findall One or more occurrences"
      ],
      "metadata": {
        "id": "qU1tQ1EiDscO"
      }
    },
    {
      "cell_type": "code",
      "source": [
        "import re\n",
        "text = \"Hello World! This is chitti, The robo boy\"\n",
        "x = re.findall(\"he.+o\",text)\n",
        "print(x)\n"
      ],
      "metadata": {
        "colab": {
          "base_uri": "https://localhost:8080/"
        },
        "id": "F-nWBPZvDnnG",
        "outputId": "c68b5bf4-92d5-4615-bbfc-4debeb3749ab"
      },
      "execution_count": 28,
      "outputs": [
        {
          "output_type": "stream",
          "name": "stdout",
          "text": [
            "['he robo bo']\n"
          ]
        }
      ]
    },
    {
      "cell_type": "markdown",
      "source": [
        "# Findall Zero or one occurrences"
      ],
      "metadata": {
        "id": "G-jJ9yIuDv3Z"
      }
    },
    {
      "cell_type": "code",
      "source": [
        "import re\n",
        "text = \"Hello World! This is chitti, The robo boy\"\n",
        "x = re.findall(\"he.?o\",text)\n",
        "print(x)\n"
      ],
      "metadata": {
        "colab": {
          "base_uri": "https://localhost:8080/"
        },
        "id": "9Wq3yVdLDvIz",
        "outputId": "54e835a4-7dd0-4939-dfe2-f6b6249dab00"
      },
      "execution_count": 29,
      "outputs": [
        {
          "output_type": "stream",
          "name": "stdout",
          "text": [
            "[]\n"
          ]
        }
      ]
    },
    {
      "cell_type": "markdown",
      "source": [
        "# Findall Exactly the specified number of occurrence"
      ],
      "metadata": {
        "id": "PxzeQBq2DwfO"
      }
    },
    {
      "cell_type": "code",
      "source": [
        "import re\n",
        "text = \"Hello World! This is chitti, The robo boy\"\n",
        "x = re.findall(\"he.{2}o\",text)\n",
        "print(x)"
      ],
      "metadata": {
        "colab": {
          "base_uri": "https://localhost:8080/"
        },
        "id": "Fxsr240mDwof",
        "outputId": "17090c0e-3df4-4e83-d9dd-7d7ad0fbf77f"
      },
      "execution_count": 30,
      "outputs": [
        {
          "output_type": "stream",
          "name": "stdout",
          "text": [
            "['he ro']\n"
          ]
        }
      ]
    },
    {
      "cell_type": "markdown",
      "source": [
        "# Findall Either or"
      ],
      "metadata": {
        "id": "kWSyI-0rDwyY"
      }
    },
    {
      "cell_type": "code",
      "source": [
        "import re\n",
        "text = \"Hello World! This is chitti, The robo boy\"\n",
        "x = re.findall(\"falls|stays\",text)\n",
        "print(x)\n",
        "if x:\n",
        " print(\"Yes, the players will win the game!\")\n",
        "else:\n",
        " print(\"No game!\")"
      ],
      "metadata": {
        "colab": {
          "base_uri": "https://localhost:8080/"
        },
        "id": "1uags5XCDw69",
        "outputId": "ee01535b-8be3-4c25-c614-78330bc6de54"
      },
      "execution_count": 31,
      "outputs": [
        {
          "output_type": "stream",
          "name": "stdout",
          "text": [
            "[]\n",
            "No game!\n"
          ]
        }
      ]
    },
    {
      "cell_type": "markdown",
      "source": [
        "# Findall Either or"
      ],
      "metadata": {
        "id": "-5ofE1VKDxCh"
      }
    },
    {
      "cell_type": "code",
      "source": [
        "import re\n",
        "text = \"Hello World! This is chitti, The robo boy who falls every time due to not functioning properly\"\n",
        "x = re.findall(\"falls|stays\",text)\n",
        "print(x)\n",
        "if x:\n",
        " print(\"Yes, the players will win the game!\")\n",
        "else:\n",
        " print(\"No game!\")\n"
      ],
      "metadata": {
        "colab": {
          "base_uri": "https://localhost:8080/"
        },
        "id": "NkvssQ2rDxJl",
        "outputId": "01d52590-7cc9-4c2a-ddb4-85c0c46e4020"
      },
      "execution_count": 33,
      "outputs": [
        {
          "output_type": "stream",
          "name": "stdout",
          "text": [
            "['falls']\n",
            "Yes, the players will win the game!\n"
          ]
        }
      ]
    },
    {
      "cell_type": "markdown",
      "source": [
        "# SPECIAL SEQUENCES"
      ],
      "metadata": {
        "id": "iby-9TKJDxRg"
      }
    },
    {
      "cell_type": "markdown",
      "source": [
        "# Returns a match if the specified characters are at the beginning of the string"
      ],
      "metadata": {
        "id": "jkfpV9dPESiy"
      }
    },
    {
      "cell_type": "code",
      "source": [
        "import re\n",
        "txt = \"There was a thunderstorm in Vizag\"\n",
        "#Check if the string starts with \"The\":\n",
        "x = re.findall(\"\\AThe\", txt)\n",
        "print(x)\n",
        "if x:\n",
        " print(\"Yes, there was a thunderstorm!\")\n",
        "else:\n",
        " print(\"No thunderstorm\")\n",
        "\n"
      ],
      "metadata": {
        "colab": {
          "base_uri": "https://localhost:8080/"
        },
        "id": "on6etGLVDxYy",
        "outputId": "d1d339fe-6571-4bfd-d3a5-2e5ea1a3f0cb"
      },
      "execution_count": 36,
      "outputs": [
        {
          "output_type": "stream",
          "name": "stdout",
          "text": [
            "['The']\n",
            "Yes, there was a thunderstorm!\n"
          ]
        }
      ]
    },
    {
      "cell_type": "markdown",
      "source": [
        "# Returns a match where the specified characters are at the beginning or at the end of a word"
      ],
      "metadata": {
        "id": "u9li0dr0Dxfy"
      }
    },
    {
      "cell_type": "code",
      "source": [
        "import re\n",
        "txt =\"There was a thunderstorm in Vizag\"\n",
        "#Check if \"ain\" is present at the beginning of a WORD:\n",
        "x = re.findall(r\"\\bain\", txt)\n",
        "print(x)\n",
        "if x:\n",
        " print(\"Yes, there was a thunderstorm!\")\n",
        "else:\n",
        " print(\"No thunderstorm\")"
      ],
      "metadata": {
        "colab": {
          "base_uri": "https://localhost:8080/"
        },
        "id": "5GEhNzjNDxmY",
        "outputId": "949855c7-04f5-4297-957f-83c316ce7fd7"
      },
      "execution_count": 37,
      "outputs": [
        {
          "output_type": "stream",
          "name": "stdout",
          "text": [
            "[]\n",
            "No thunderstorm\n"
          ]
        }
      ]
    },
    {
      "cell_type": "markdown",
      "source": [
        "# Returns a match where the specified characters are at the beginning or at the end of a word"
      ],
      "metadata": {
        "id": "K34KN3FoDxtV"
      }
    },
    {
      "cell_type": "code",
      "source": [
        "import re\n",
        "txt =\"There was a thunderstorm in Vizag\"\n",
        "#Check if \"nder\" is present at the end of a WORD:\n",
        "x = re.findall(u\"nder\\b\", txt)\n",
        "print(x)\n",
        "if x:\n",
        " print(\"Yes, there was a thunderstorm!\")\n",
        "else:\n",
        " print(\"No thunderstorm\")"
      ],
      "metadata": {
        "colab": {
          "base_uri": "https://localhost:8080/"
        },
        "id": "vtkHorgZDx0z",
        "outputId": "d92980b2-4211-42ad-83e6-ae07a0a6d1fb"
      },
      "execution_count": 38,
      "outputs": [
        {
          "output_type": "stream",
          "name": "stdout",
          "text": [
            "[]\n",
            "No thunderstorm\n"
          ]
        }
      ]
    },
    {
      "cell_type": "markdown",
      "source": [
        "# Returns a match where the string contains digits (numbers from 0-9)\n"
      ],
      "metadata": {
        "id": "LxE1DVxvDx9y"
      }
    },
    {
      "cell_type": "code",
      "source": [
        "import re\n",
        "txt =\"There was a thunderstorm in Vizag\"\n",
        "#Check if \"nder\" is present at the end of a WORD:\n",
        "x = re.findall(\"\\d\", txt)\n",
        "print(x)\n",
        "if x:\n",
        " print(\"Yes, there was a thunderstorm!\")\n",
        "else:\n",
        " print(\"No thunderstorm\")"
      ],
      "metadata": {
        "colab": {
          "base_uri": "https://localhost:8080/"
        },
        "id": "l7uTMdq-DyFN",
        "outputId": "58055ad4-8c56-4f30-bc3a-e8441836097d"
      },
      "execution_count": 39,
      "outputs": [
        {
          "output_type": "stream",
          "name": "stdout",
          "text": [
            "[]\n",
            "No thunderstorm\n"
          ]
        }
      ]
    },
    {
      "cell_type": "markdown",
      "source": [
        "# Write a Python program that matches a string that has an a followed by three 'b'\n"
      ],
      "metadata": {
        "id": "KF_12rbdDyM7"
      }
    },
    {
      "cell_type": "code",
      "source": [
        "import re\n",
        "def text_match(text): \n",
        " if re.search('^[a-z]+_[a-z]+$', text):\n",
        "   return 'matched'\n",
        " else:\n",
        "   return 'Not matched'\n",
        "print(text_match(\"aab_cbbbc\"))\n",
        "print(text_match(\"aab_Abbbc\"))\n",
        "print(text_match(\"Aaab_abbbc\"))\n",
        "print(text_match(\"azxdseab_abbcdefgxz\"))\n"
      ],
      "metadata": {
        "colab": {
          "base_uri": "https://localhost:8080/"
        },
        "id": "TwFB7tv8DyUc",
        "outputId": "abe0e051-19b8-405e-baee-44269c22ec07"
      },
      "execution_count": 41,
      "outputs": [
        {
          "output_type": "stream",
          "name": "stdout",
          "text": [
            "matched\n",
            "Not matched\n",
            "Not matched\n",
            "matched\n"
          ]
        }
      ]
    },
    {
      "cell_type": "markdown",
      "source": [
        "# Write a Python program that matches a string that has an a followed by three 'b'"
      ],
      "metadata": {
        "id": "Wj3WdHBvDyb2"
      }
    },
    {
      "cell_type": "code",
      "source": [
        "import re\n",
        "def text_match(text):\n",
        " patterns = 'ab{3}?'\n",
        " if re.search(patterns, text):\n",
        "    return 'Found a match'\n",
        " else:\n",
        "    return 'Not matched'\n",
        "print(text_match(\"abbb\"))\n",
        "print(text_match(\"aabbc\"))\n",
        "\n"
      ],
      "metadata": {
        "colab": {
          "base_uri": "https://localhost:8080/"
        },
        "id": "m6S695H8Dyil",
        "outputId": "3fbdb637-ba36-492d-a872-5b1f73885519"
      },
      "execution_count": 43,
      "outputs": [
        {
          "output_type": "stream",
          "name": "stdout",
          "text": [
            "Found a match\n",
            "Not matched\n"
          ]
        }
      ]
    },
    {
      "cell_type": "markdown",
      "source": [
        "# Write a Python program that matches a string that has an a followed by zero or one 'b'"
      ],
      "metadata": {
        "id": "Yi5wfSc8UHbm"
      }
    },
    {
      "cell_type": "code",
      "source": [
        "import re\n",
        "def text_match(text): \n",
        " if re.search('ab?', text):\n",
        "   return 'Found a match'\n",
        " else:\n",
        "   return 'Not matched'\n",
        "print(text_match(\"a\"))\n",
        "print(text_match(\"abbbbc\"))\n",
        "print(text_match(\"abc\"))"
      ],
      "metadata": {
        "colab": {
          "base_uri": "https://localhost:8080/"
        },
        "id": "U6ocWOfAUlSa",
        "outputId": "b3a6bc16-6d8d-4461-f9bd-ea9a495cb1be"
      },
      "execution_count": 47,
      "outputs": [
        {
          "output_type": "stream",
          "name": "stdout",
          "text": [
            "Found a match\n",
            "Found a match\n",
            "Found a match\n"
          ]
        }
      ]
    },
    {
      "cell_type": "code",
      "source": [
        ""
      ],
      "metadata": {
        "id": "GaXuEcysUxQL"
      },
      "execution_count": null,
      "outputs": []
    }
  ]
}